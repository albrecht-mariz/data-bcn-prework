{
 "cells": [
  {
   "cell_type": "markdown",
   "metadata": {},
   "source": [
    "<img src=\"https://bit.ly/2VnXWr2\" width=\"100\" align=\"left\">"
   ]
  },
  {
   "cell_type": "markdown",
   "metadata": {},
   "source": [
    "# Rock, Paper & Scissors\n",
    "\n",
    "Let's play the famous game against our computer. You can check the rules [here](https://en.wikipedia.org/wiki/Rock%E2%80%93paper%E2%80%93scissors). \n",
    "\n",
    "## Task\n",
    "Create a program that imitates the playability of the well known game of rock, paper, scissors. Follow the guidelines provided.\n",
    "\n",
    "## Tools\n",
    "1. Loop: **for/while**\n",
    "2. Functions: **input(), print()...**\n",
    "3. Conditional statements: **if, elif, else**\n",
    "4. Definition of functions. Modular programming\n",
    "5. Import modules\n",
    "\n",
    "**To solve this challenge, the use of functions is recommended.**\n",
    "\n",
    "#### 1. Import the choice function of the random module."
   ]
  },
  {
   "cell_type": "code",
   "execution_count": 1,
   "metadata": {},
   "outputs": [],
   "source": [
    "import random"
   ]
  },
  {
   "cell_type": "markdown",
   "metadata": {},
   "source": [
    "#### 2. Create a list that includes the 3 possible gesture options of the game: 'rock', 'paper' or 'scissors'. Store the list in a variable called `gestures`."
   ]
  },
  {
   "cell_type": "code",
   "execution_count": 2,
   "metadata": {},
   "outputs": [],
   "source": [
    "options = [\"rock\", \"paper\", \"scissors\"]"
   ]
  },
  {
   "cell_type": "markdown",
   "metadata": {},
   "source": [
    "#### 3. Create a variable called `n_rounds` to store the maximum number of rounds to play in a game. \n",
    "Remember that the number of rounds must be odd: 1, 3, 5, ..."
   ]
  },
  {
   "cell_type": "code",
   "execution_count": 3,
   "metadata": {},
   "outputs": [],
   "source": [
    "games = 3"
   ]
  },
  {
   "cell_type": "markdown",
   "metadata": {},
   "source": [
    "#### 4. Create a variable called `rounds_to_win` to store the number of rounds that a player must win to win the game.\n",
    "**Hint**: the value stored in `rounds_to_win` depends on the value of `n_rounds`. "
   ]
  },
  {
   "cell_type": "code",
   "execution_count": 4,
   "metadata": {},
   "outputs": [],
   "source": [
    "to_win = 2"
   ]
  },
  {
   "cell_type": "markdown",
   "metadata": {},
   "source": [
    "#### 5. Create two variables to store the number of rounds that the computer and the player have won. Call these variables `cpu_score` and `player_score`."
   ]
  },
  {
   "cell_type": "code",
   "execution_count": 5,
   "metadata": {},
   "outputs": [],
   "source": [
    "current_round = 0\n",
    "player_wins = 0\n",
    "comp_wins = 0"
   ]
  },
  {
   "cell_type": "markdown",
   "metadata": {},
   "source": [
    "#### 6. Define a function that randomly returns one of the 3 gesture options.\n",
    "You will use this function to simulate the gesture choice of the computer. "
   ]
  },
  {
   "cell_type": "code",
   "execution_count": 7,
   "metadata": {},
   "outputs": [],
   "source": [
    "def maschine_play():\n",
    "    computer_move = random.choice(options)\n",
    "    if computer_move == \"rock\":\n",
    "        print (\"Computer used rock!\")\n",
    "        return 1\n",
    "\n",
    "    elif computer_move == \"paper\":\n",
    "        print (\"Computer used paper!\")\n",
    "        return 2\n",
    "\n",
    "    elif computer_move == \"scissors\":\n",
    "        print (\"Computer used scissors!\")\n",
    "        return 3"
   ]
  },
  {
   "cell_type": "markdown",
   "metadata": {},
   "source": [
    "#### 7. Define a function that asks the player which is the gesture he or she wants to show: 'rock', 'paper' or 'scissors'.\n",
    "The player should only be allowed to choose one of the 3 gesture options. If the player's choice is not rock, paper or scissors, keep asking until it is."
   ]
  },
  {
   "cell_type": "code",
   "execution_count": 8,
   "metadata": {},
   "outputs": [],
   "source": [
    "def your_play():\n",
    "    print (\"Please play one of the following\")\n",
    "    player_move = input(\"rock, paper, scissors : \")\n",
    "    if player_move == \"rock\":\n",
    "        print (\"You used rock!\") \n",
    "        return 1              \n",
    "\n",
    "    elif player_move == \"paper\":        \n",
    "        print (\"You used paper!\")\n",
    "        return 2\n",
    "\n",
    "    elif player_move == \"scissors\":\n",
    "        print (\"You used scissors!\")\n",
    "        return 3\n",
    "\n",
    "    else:\n",
    "        return your_play()"
   ]
  },
  {
   "cell_type": "markdown",
   "metadata": {},
   "source": [
    "#### 8. Define a function that checks who won a round. \n",
    "The function should return 0 if there is a tie, 1 if the computer wins and 2 if the player wins."
   ]
  },
  {
   "cell_type": "code",
   "execution_count": 10,
   "metadata": {},
   "outputs": [],
   "source": [
    "#see below"
   ]
  },
  {
   "cell_type": "markdown",
   "metadata": {},
   "source": [
    "#### 9. Define a function that prints the choice of the computer, the choice of the player and a message that announces who won the current round. \n",
    "You should also use this function to update the variables that count the number of rounds that the computer and the player have won. The score of the winner increases by one point. If there is a tie, the score does not increase."
   ]
  },
  {
   "cell_type": "code",
   "execution_count": 11,
   "metadata": {},
   "outputs": [],
   "source": [
    "def resolve_combat(computer_move, player_move):\n",
    "    if (computer_move ==  1 and player_move == 1) or (computer_move == 2 and player_move == 2) or (computer_move == 3 and player_move == 3):\n",
    "        print(\"It's a tie!\")\n",
    "        return 0  \n",
    "\n",
    "    elif (computer_move ==  1 and player_move == 3) or (computer_move == 2 and player_move == 1) or (computer_move == 3 and player_move == 2):\n",
    "        print(\"Computer wins!\")\n",
    "        return 1\n",
    "\n",
    "    elif (computer_move ==  1 and player_move == 2) or (computer_move == 2 and player_move == 3) or (computer_move == 3 and player_move == 1):\n",
    "        print(\"Player wins!\")\n",
    "        return 2"
   ]
  },
  {
   "cell_type": "markdown",
   "metadata": {},
   "source": [
    "#### 10. Now it's time to code the execution of the game using the functions and variables you defined above. \n",
    "\n",
    "First, create a loop structure that repeats while no player reaches the minimum score necessary to win and the number of rounds is less than the maximum number of rounds to play in a game.  \n",
    "\n",
    "Inside the loop, use the functions and variables above to create the execution of a round: ask for the player's choice, generate the random choice of the computer, show the round results, update the scores, etc. "
   ]
  },
  {
   "cell_type": "code",
   "execution_count": 12,
   "metadata": {},
   "outputs": [],
   "source": [
    "def result(combat_resolve):\n",
    "    global player_wins\n",
    "    global comp_wins\n",
    "    if combat_resolve == 1:\n",
    "        comp_wins += 1\n",
    "        print(\"Player score \" + str(player_wins))\n",
    "        print(\"Computer score \" + str(comp_wins))\n",
    "    elif combat_resolve == 2:\n",
    "        player_wins += 1\n",
    "        print(\"Player score \" + str(player_wins))\n",
    "        print(\"Computer score \" + str(comp_wins))\n",
    "    elif combat_resolve == 0:\n",
    "        print(\"Player score \" + str(player_wins))\n",
    "        print(\"Computer score \" + str(comp_wins))\n",
    "\n",
    "def resolved_game():\n",
    "    print (\"Round \" + str(current_round))\n",
    "    player_move = your_play()\n",
    "    computer_move = maschine_play()\n",
    "    combat_resolve = resolve_combat(computer_move, player_move)\n",
    "    result(combat_resolve)"
   ]
  },
  {
   "cell_type": "markdown",
   "metadata": {},
   "source": [
    "#### 11. Print the winner of the game based on who won more rounds.\n",
    "Remember that the game might be tied. "
   ]
  },
  {
   "cell_type": "code",
   "execution_count": 13,
   "metadata": {},
   "outputs": [
    {
     "name": "stdout",
     "output_type": "stream",
     "text": [
      "Round 1\n",
      "Please play one of the following\n",
      "rock, paper, scissors : rock\n",
      "You used rock!\n",
      "Computer used paper!\n",
      "Computer wins!\n",
      "Player score 0\n",
      "Computer score 1\n",
      "Round 2\n",
      "Please play one of the following\n",
      "rock, paper, scissors : rock\n",
      "You used rock!\n",
      "Computer used paper!\n",
      "Computer wins!\n",
      "Player score 0\n",
      "Computer score 2\n",
      "Computer wins the game! Game over!\n"
     ]
    }
   ],
   "source": [
    "while player_wins <= 3 or comp_wins <= 3:\n",
    "    current_round += 1\n",
    "    if player_wins == to_win:\n",
    "        print(\"Player wins the game! Congratulations!\")\n",
    "        break\n",
    "    if comp_wins == to_win:\n",
    "        print(\"Computer wins the game! Game over!\")\n",
    "        break\n",
    "    if current_round == games + 1:\n",
    "        print(\"Maximun number of games reached! Try again!\")\n",
    "        break\n",
    "    resolved_game()"
   ]
  },
  {
   "cell_type": "markdown",
   "metadata": {},
   "source": [
    "# Bonus: Rock, Paper, Scissors, Lizard & Spock\n",
    "![](images/rpsls.jpg)\n",
    "\n",
    "In this challenge, you need to improve the previous game by adding two new options. To know more about the rules of the improved version of rock, paper, scissors, check this [link](http://www.samkass.com/theories/RPSSL.html). \n",
    "\n",
    "In addition, you will also need to improve how the game interacts with the player: the number of rounds to play, which must be an odd number, will be requested to the user until a valid number is entered. Define a new function to make that request.\n",
    "\n",
    "**Hint**: Try to reuse the code that you already coded in the previous challenge. If your code is efficient, this bonus will only consist of simple modifications to the original game."
   ]
  },
  {
   "cell_type": "code",
   "execution_count": null,
   "metadata": {},
   "outputs": [],
   "source": []
  }
 ],
 "metadata": {
  "kernelspec": {
   "display_name": "Python 3",
   "language": "python",
   "name": "python3"
  },
  "language_info": {
   "codemirror_mode": {
    "name": "ipython",
    "version": 3
   },
   "file_extension": ".py",
   "mimetype": "text/x-python",
   "name": "python",
   "nbconvert_exporter": "python",
   "pygments_lexer": "ipython3",
   "version": "3.7.4"
  }
 },
 "nbformat": 4,
 "nbformat_minor": 2
}
